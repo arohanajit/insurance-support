{
  "nbformat": 4,
  "nbformat_minor": 0,
  "metadata": {
    "colab": {
      "name": "Untitled9.ipynb",
      "private_outputs": true,
      "provenance": []
    },
    "kernelspec": {
      "name": "python3",
      "display_name": "Python 3"
    }
  },
  "cells": [
    {
      "cell_type": "code",
      "metadata": {
        "id": "LKt8FkqcJpid"
      },
      "source": [
        "import pandas as pd\n",
        "import numpy as np\n",
        "import seaborn as sns\n",
        "import matplotlib.pyplot as plt\n",
        "from sklearn.model_selection import train_test_split\n",
        "from sklearn.preprocessing import StandardScaler, MinMaxScaler"
      ],
      "execution_count": null,
      "outputs": []
    },
    {
      "cell_type": "code",
      "metadata": {
        "id": "m4jANhS_JqZk"
      },
      "source": [
        "df = pd.read_csv('patients.csv')\n",
        "df.head()"
      ],
      "execution_count": null,
      "outputs": []
    },
    {
      "cell_type": "code",
      "metadata": {
        "id": "j2rN6chPJ3wc"
      },
      "source": [
        "id = df['Id']\n",
        "df = df.drop(columns=['Id','SSN', 'DRIVERS', 'PASSPORT', 'PREFIX',\n",
        "       'FIRST', 'LAST', 'SUFFIX', 'MAIDEN','ADDRESS','ZIP','STATE','CITY','BIRTHPLACE',\n",
        "       'LAT', 'LON'])"
      ],
      "execution_count": null,
      "outputs": []
    },
    {
      "cell_type": "code",
      "metadata": {
        "id": "ihGwJkptJ6X_"
      },
      "source": [
        "df.isnull().sum()"
      ],
      "execution_count": null,
      "outputs": []
    },
    {
      "cell_type": "code",
      "metadata": {
        "id": "tPTzLX_kJ8Rh"
      },
      "source": [
        "df['BIRTHDATE'] = pd.to_datetime(df['BIRTHDATE'],format='%Y-%m-%d')\n",
        "df['DEATHDATE'] = pd.to_datetime(df['DEATHDATE'],format='%Y-%m-%d')\n",
        "df['isDead'] = np.where(df['DEATHDATE'].notnull(),1,0)\n",
        "now = pd.Timestamp('now')\n",
        "df['age'] = np.where(df['isDead']==0,(now-df['BIRTHDATE']).astype('<m8[Y]'),(df['DEATHDATE']-df['BIRTHDATE']).astype('<m8[Y]'))\n",
        "df['binned']=pd.cut(x=df['age'], bins=[0,20,40,60,80,100,110,120], right=False)\n",
        "df = df.drop(columns=['BIRTHDATE','DEATHDATE'])\n",
        "df.head()"
      ],
      "execution_count": null,
      "outputs": []
    },
    {
      "cell_type": "code",
      "metadata": {
        "id": "Bd7uZI82J-td"
      },
      "source": [
        "df['ETHNICITY'] = np.where(df['ETHNICITY']=='nonhispanic',0,1)\n",
        "df['GENDER'] = np.where(df['GENDER']=='M',1,0)\n",
        "df.head()"
      ],
      "execution_count": null,
      "outputs": []
    },
    {
      "cell_type": "code",
      "metadata": {
        "id": "Mo-JW-1jKAo0"
      },
      "source": [
        "df.loc[(df[\"binned\"]==pd.Interval(0, 20, closed='left')),'MARITAL'] = 'S'\n",
        "df.loc[(df[\"binned\"]==pd.Interval(20, 40, closed='left')) & (df['MARITAL'].isna()),'MARITAL'] = 'M'\n",
        "df.MARITAL = np.where(df.MARITAL=='M',1,0)\n",
        "df.head()"
      ],
      "execution_count": null,
      "outputs": []
    },
    {
      "cell_type": "code",
      "metadata": {
        "id": "_IcYHuZ9Qj9_"
      },
      "source": [
        "# correlation plot\n",
        "corr = df.corr()\n",
        "sns.heatmap(corr, cmap = 'Wistia', annot= True)"
      ],
      "execution_count": null,
      "outputs": []
    },
    {
      "cell_type": "code",
      "metadata": {
        "id": "BB9J9QgQKC3d"
      },
      "source": [
        "df = pd.get_dummies(data=df, columns=['RACE','COUNTY','binned'])\n",
        "df.head()"
      ],
      "execution_count": null,
      "outputs": []
    },
    {
      "cell_type": "code",
      "metadata": {
        "id": "yf6PlyZYKEmU"
      },
      "source": [
        "target = ['HEALTHCARE_EXPENSES','HEALTHCARE_COVERAGE']\n",
        "df = df[[c for c in df if c not in target] + [c for c in target if c in df]]\n",
        "df.head()"
      ],
      "execution_count": null,
      "outputs": []
    },
    {
      "cell_type": "code",
      "metadata": {
        "id": "Xu1x3or3KFwV"
      },
      "source": [
        "Y = df.HEALTHCARE_COVERAGE\n",
        "Z = df.HEALTHCARE_EXPENSES\n",
        "X = df.drop(columns=target)"
      ],
      "execution_count": null,
      "outputs": []
    },
    {
      "cell_type": "code",
      "metadata": {
        "id": "gGX_PoXZOnTD"
      },
      "source": [
        "from sklearn.ensemble import RandomForestRegressor\n",
        "from sklearn.metrics import mean_squared_error, mean_absolute_error, r2_score"
      ],
      "execution_count": null,
      "outputs": []
    },
    {
      "cell_type": "code",
      "metadata": {
        "id": "UHEiyWZMwn3J"
      },
      "source": [
        "x_train,x_test,y_train,y_test = train_test_split(X,Y, random_state = 0, test_size=0.2)"
      ],
      "execution_count": null,
      "outputs": []
    },
    {
      "cell_type": "code",
      "metadata": {
        "id": "nsD-ptwKv9zi"
      },
      "source": [
        "def display_scores(scores):\n",
        "    print(\"Scores:\", scores)\n",
        "    print(\"Mean:\", scores.mean())\n",
        "    print(\"Standard deviation:\", scores.std())"
      ],
      "execution_count": null,
      "outputs": []
    },
    {
      "cell_type": "code",
      "metadata": {
        "id": "myZPh_hawNp2"
      },
      "source": [
        "from sklearn.model_selection import GridSearchCV\n",
        "\n",
        "param_grid = [\n",
        "    # try 12 (3×4) combinations of hyperparameters\n",
        "    {'n_estimators': [3, 10, 30], 'max_features': [2, 4, 6, 8]},\n",
        "    # then try 6 (2×3) combinations with bootstrap set as False\n",
        "    {'bootstrap': [False], 'n_estimators': [3, 10], 'max_features': [2, 3, 4]},\n",
        "  ]\n",
        "\n",
        "forest_reg_cov = RandomForestRegressor(random_state=42)\n",
        "# train across 5 folds, that's a total of (12+6)*5=90 rounds of training \n",
        "grid_search_cov = GridSearchCV(forest_reg_cov, param_grid, cv=5,\n",
        "                           scoring='neg_mean_squared_error',\n",
        "                           return_train_score=True)\n",
        "grid_search_cov.fit(x_train, y_train)"
      ],
      "execution_count": null,
      "outputs": []
    },
    {
      "cell_type": "code",
      "metadata": {
        "id": "iu3rvTuawS9D"
      },
      "source": [
        "grid_search_cov.best_params_, grid_search_cov.best_estimator_"
      ],
      "execution_count": null,
      "outputs": []
    },
    {
      "cell_type": "code",
      "metadata": {
        "id": "-TPtvyLEwXDH"
      },
      "source": [
        "cvres = grid_search_cov.cv_results_\n",
        "for mean_score, params in zip(cvres[\"mean_test_score\"], cvres[\"params\"]):\n",
        "    print(np.sqrt(-mean_score), params)"
      ],
      "execution_count": null,
      "outputs": []
    },
    {
      "cell_type": "code",
      "metadata": {
        "id": "6z2Gduhvw9VS"
      },
      "source": [
        "final_model_cov = grid_search.best_estimator_\n",
        "cov_pred = final_model_cov.predict(x_test)\n",
        "\n",
        "final_mse = mean_squared_error(y_test, cov_pred)\n",
        "final_rmse = np.sqrt(final_mse)\n",
        "print(\"RMSE on Test ==> \",final_rmse)"
      ],
      "execution_count": null,
      "outputs": []
    },
    {
      "cell_type": "code",
      "metadata": {
        "id": "ug4PfSg80Hoi"
      },
      "source": [
        "temp_df = pd.DataFrame({\"true\":y_test, \"pred\":cov_pred})\n",
        "sns.scatterplot(data=temp_df)"
      ],
      "execution_count": null,
      "outputs": []
    },
    {
      "cell_type": "code",
      "metadata": {
        "id": "nr1JCoGZxtu3"
      },
      "source": [
        "x_train,x_test,y_train,y_test = train_test_split(X,Z, random_state = 0, test_size=0.2)"
      ],
      "execution_count": null,
      "outputs": []
    },
    {
      "cell_type": "code",
      "metadata": {
        "id": "S2BGGzToya44"
      },
      "source": [
        "def display_scores(scores):\n",
        "    print(\"Scores:\", scores)\n",
        "    print(\"Mean:\", scores.mean())\n",
        "    print(\"Standard deviation:\", scores.std())"
      ],
      "execution_count": null,
      "outputs": []
    },
    {
      "cell_type": "code",
      "metadata": {
        "id": "8LHTidJqygjQ"
      },
      "source": [
        "from sklearn.model_selection import GridSearchCV\n",
        "\n",
        "param_grid = [\n",
        "    # try 12 (3×4) combinations of hyperparameters\n",
        "    {'n_estimators': [3, 10, 30], 'max_features': [2, 4, 6, 8]},\n",
        "    # then try 6 (2×3) combinations with bootstrap set as False\n",
        "    {'bootstrap': [False], 'n_estimators': [3, 10], 'max_features': [2, 3, 4]},\n",
        "  ]\n",
        "\n",
        "forest_reg_exp = RandomForestRegressor(random_state=42)\n",
        "# train across 5 folds, that's a total of (12+6)*5=90 rounds of training \n",
        "grid_search_exp = GridSearchCV(forest_reg_exp, param_grid, cv=5,\n",
        "                           scoring='neg_mean_squared_error',\n",
        "                           return_train_score=True)\n",
        "grid_search_exp.fit(x_train, y_train)"
      ],
      "execution_count": null,
      "outputs": []
    },
    {
      "cell_type": "code",
      "metadata": {
        "id": "nUE2x6Mlynjh"
      },
      "source": [
        "grid_search_exp.best_params_,grid_search_exp.best_estimator_"
      ],
      "execution_count": null,
      "outputs": []
    },
    {
      "cell_type": "code",
      "metadata": {
        "id": "cGZHCJrNyvQS"
      },
      "source": [
        "cvres = grid_search_exp.cv_results_\n",
        "for mean_score, params in zip(cvres[\"mean_test_score\"], cvres[\"params\"]):\n",
        "    print(np.sqrt(-mean_score), params)"
      ],
      "execution_count": null,
      "outputs": []
    },
    {
      "cell_type": "code",
      "metadata": {
        "id": "kJVskVx8yvFF"
      },
      "source": [
        "final_model_exp = grid_search1.best_estimator_\n",
        "exp_pred = final_model1.predict(x_test)\n",
        "\n",
        "final_mse = mean_squared_error(y_test, exp_pred)\n",
        "final_rmse = np.sqrt(final_mse)\n",
        "print(\"RMSE on Test ==> \",final_rmse)"
      ],
      "execution_count": null,
      "outputs": []
    },
    {
      "cell_type": "code",
      "metadata": {
        "id": "9wTgM0G0z2_M"
      },
      "source": [
        "temp_df = pd.DataFrame({\"true\":y_test, \"pred\":exp_pred})\n",
        "sns.scatterplot(data=temp_df)"
      ],
      "execution_count": null,
      "outputs": []
    },
    {
      "cell_type": "code",
      "metadata": {
        "id": "84IiFSnquN2I"
      },
      "source": [
        "import pickle\n",
        "pickle.dump(final_model_cov,open('cover.pkl','wb'))\n",
        "pickle.dump(final_model_exp,open('expense.pkl','wb'))"
      ],
      "execution_count": null,
      "outputs": []
    },
    {
      "cell_type": "code",
      "metadata": {
        "id": "WVaA4Y4PaMzY"
      },
      "source": [
        "val = np.asarray([ 0. , 1. , 1. , 0. , 32. , 1. , 0. , 0. , 0. , 0. , 1. , 0. , 0. , 0. , 0. , 0. , 0. , 0.\n",
        " , 0. , 0. , 0. , 0. , 0. , 0. , 0. , 1. , 0. , 0. , 0. , 0., 0.]).reshape(1,-1)"
      ],
      "execution_count": null,
      "outputs": []
    },
    {
      "cell_type": "code",
      "metadata": {
        "id": "JCu86yh2ago3"
      },
      "source": [
        ".predict(val)"
      ],
      "execution_count": null,
      "outputs": []
    },
    {
      "cell_type": "code",
      "metadata": {
        "id": "VImWEpxDaloJ"
      },
      "source": [
        "final_model_cov.predict(val)"
      ],
      "execution_count": null,
      "outputs": []
    },
    {
      "cell_type": "code",
      "metadata": {
        "id": "vuIgD3yU8SFd"
      },
      "source": [
        ""
      ],
      "execution_count": null,
      "outputs": []
    }
  ]
}