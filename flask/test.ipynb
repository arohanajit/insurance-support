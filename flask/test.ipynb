{
 "metadata": {
  "language_info": {
   "codemirror_mode": {
    "name": "ipython",
    "version": 3
   },
   "file_extension": ".py",
   "mimetype": "text/x-python",
   "name": "python",
   "nbconvert_exporter": "python",
   "pygments_lexer": "ipython3",
   "version": "3.7.6-final"
  },
  "orig_nbformat": 2,
  "kernelspec": {
   "name": "python3",
   "display_name": "Python 3"
  }
 },
 "nbformat": 4,
 "nbformat_minor": 2,
 "cells": [
  {
   "cell_type": "code",
   "execution_count": 1,
   "metadata": {},
   "outputs": [],
   "source": [
    "import pandas as pd"
   ]
  },
  {
   "cell_type": "code",
   "execution_count": 2,
   "metadata": {},
   "outputs": [],
   "source": [
    "df = pd.read_csv('al.csv')\n",
    "list(df.loc[df.COUNTY=='Essex County'].iloc[:3]['DESCRIPTION'])"
   ]
  },
  {
   "cell_type": "code",
   "execution_count": 9,
   "metadata": {},
   "outputs": [
    {
     "output_type": "execute_result",
     "data": {
      "text/plain": [
       "['Respiratory therapy',\n",
       " 'Routine antenatal care',\n",
       " 'Diabetes self management plan']"
      ]
     },
     "metadata": {},
     "execution_count": 9
    }
   ],
   "source": [
    "df = pd.read_csv('care.csv')\n",
    "list(df.loc[df.COUNTY=='Essex County'].iloc[:3]['DESCRIPTION'])"
   ]
  },
  {
   "cell_type": "code",
   "execution_count": 10,
   "metadata": {},
   "outputs": [
    {
     "output_type": "execute_result",
     "data": {
      "text/plain": [
       "['General examination of patient (procedure)',\n",
       " 'Encounter for check up (procedure)',\n",
       " 'Urgent care clinic (procedure)']"
      ]
     },
     "metadata": {},
     "execution_count": 10
    }
   ],
   "source": [
    "df = pd.read_csv('enc.csv')\n",
    "list(df.loc[df.COUNTY=='Essex County'].iloc[:3]['DESCRIPTION'])"
   ]
  },
  {
   "cell_type": "code",
   "execution_count": 11,
   "metadata": {},
   "outputs": [
    {
     "output_type": "execute_result",
     "data": {
      "text/plain": [
       "['Influenza  seasonal  injectable  preservative free',\n",
       " 'Td (adult) preservative free',\n",
       " 'Pneumococcal conjugate PCV 13']"
      ]
     },
     "metadata": {},
     "execution_count": 11
    }
   ],
   "source": [
    "df = pd.read_csv('im.csv')\n",
    "list(df.loc[df.COUNTY=='Essex County'].iloc[:3]['DESCRIPTION'])"
   ]
  },
  {
   "cell_type": "code",
   "execution_count": 12,
   "metadata": {},
   "outputs": [
    {
     "output_type": "execute_result",
     "data": {
      "text/plain": [
       "['Diastolic Blood Pressure',\n",
       " 'Systolic Blood Pressure',\n",
       " 'Pain severity - 0-10 verbal numeric rating [Score] - Reported']"
      ]
     },
     "metadata": {},
     "execution_count": 12
    }
   ],
   "source": [
    "df = pd.read_csv('obs.csv')\n",
    "list(df.loc[df.COUNTY=='Essex County'].iloc[:3]['DESCRIPTION'])"
   ]
  },
  {
   "cell_type": "code",
   "execution_count": 17,
   "metadata": {},
   "outputs": [],
   "source": [
    "df = pd.read_csv('proc.csv')\n",
    "df2 = pd.read_csv('proc_support.csv')\n",
    "list(df.loc[df.COUNTY=='Essex County'].iloc[:3]['DESCRIPTION'])"
   ]
  },
  {
   "cell_type": "code",
   "execution_count": 22,
   "metadata": {},
   "outputs": [
    {
     "output_type": "execute_result",
     "data": {
      "text/plain": [
       "6529     997.90\n",
       "7893     996.61\n",
       "28512    976.98\n",
       "Name: BASE_COST, dtype: float64"
      ]
     },
     "metadata": {},
     "execution_count": 22
    }
   ],
   "source": [
    "df2.loc[(df2.DESCRIPTION==a[0]) & (df2.COUNTY=='Essex County')].sort_values('BASE_COST',ascending=False)['BASE_COST'].iloc[:3]"
   ]
  },
  {
   "cell_type": "code",
   "execution_count": 24,
   "metadata": {},
   "outputs": [
    {
     "output_type": "execute_result",
     "data": {
      "text/plain": [
       "70       INTERNAL MEDICINE\n",
       "71      NURSE PRACTITIONER\n",
       "72    DIAGNOSTIC RADIOLOGY\n",
       "Name: SPECIALITY, dtype: object"
      ]
     },
     "metadata": {},
     "execution_count": 24
    }
   ],
   "source": [
    "df = pd.read_csv('prov.csv')\n",
    "df.loc[df.COUNTY == 'Essex County']['SPECIALITY'].iloc[:3]"
   ]
  },
  {
   "cell_type": "code",
   "execution_count": null,
   "metadata": {},
   "outputs": [],
   "source": []
  }
 ]
}