{
 "metadata": {
  "language_info": {
   "codemirror_mode": {
    "name": "ipython",
    "version": 3
   },
   "file_extension": ".py",
   "mimetype": "text/x-python",
   "name": "python",
   "nbconvert_exporter": "python",
   "pygments_lexer": "ipython3",
   "version": "3.7.6-final"
  },
  "orig_nbformat": 2,
  "kernelspec": {
   "name": "python3",
   "display_name": "Python 3"
  }
 },
 "nbformat": 4,
 "nbformat_minor": 2,
 "cells": [
  {
   "cell_type": "code",
   "execution_count": 1,
   "metadata": {},
   "outputs": [],
   "source": [
    "import pandas as pd"
   ]
  },
  {
   "cell_type": "code",
   "execution_count": 2,
   "metadata": {},
   "outputs": [
    {
     "output_type": "execute_result",
     "data": {
      "text/plain": [
       "         CITY            COUNTY\n",
       "0    Chicopee    Hampden County\n",
       "1  Somerville  Middlesex County\n",
       "2    Chicopee    Hampden County\n",
       "3      Lowell  Middlesex County\n",
       "4      Boston    Suffolk County"
      ],
      "text/html": "<div>\n<style scoped>\n    .dataframe tbody tr th:only-of-type {\n        vertical-align: middle;\n    }\n\n    .dataframe tbody tr th {\n        vertical-align: top;\n    }\n\n    .dataframe thead th {\n        text-align: right;\n    }\n</style>\n<table border=\"1\" class=\"dataframe\">\n  <thead>\n    <tr style=\"text-align: right;\">\n      <th></th>\n      <th>CITY</th>\n      <th>COUNTY</th>\n    </tr>\n  </thead>\n  <tbody>\n    <tr>\n      <th>0</th>\n      <td>Chicopee</td>\n      <td>Hampden County</td>\n    </tr>\n    <tr>\n      <th>1</th>\n      <td>Somerville</td>\n      <td>Middlesex County</td>\n    </tr>\n    <tr>\n      <th>2</th>\n      <td>Chicopee</td>\n      <td>Hampden County</td>\n    </tr>\n    <tr>\n      <th>3</th>\n      <td>Lowell</td>\n      <td>Middlesex County</td>\n    </tr>\n    <tr>\n      <th>4</th>\n      <td>Boston</td>\n      <td>Suffolk County</td>\n    </tr>\n  </tbody>\n</table>\n</div>"
     },
     "metadata": {},
     "execution_count": 2
    }
   ],
   "source": [
    "df = pd.read_csv('patients.csv')\n",
    "data = df[['Id','COUNTY']]\n",
    "data2 = df[['CITY','COUNTY']]\n",
    "data.rename(columns={'Id':'PATIENT'},inplace=True)\n",
    "data2.head()"
   ]
  },
  {
   "cell_type": "code",
   "execution_count": 12,
   "metadata": {},
   "outputs": [],
   "source": [
    "df = pd.read_csv('allergies.csv')\n",
    "al = pd.merge(df,data,how='left',on='PATIENT')\n",
    "al.groupby(['COUNTY','DESCRIPTION']).count().sort_values('PATIENT',ascending=False).sort_index(level='COUNTY',sort_remaining=False).to_csv('al.csv')"
   ]
  },
  {
   "cell_type": "code",
   "execution_count": 13,
   "metadata": {},
   "outputs": [],
   "source": [
    "df1 = pd.read_csv('careplans.csv')\n",
    "care = pd.merge(df1,data,how='left',on='PATIENT')\n",
    "care.groupby(['COUNTY','DESCRIPTION']).count().sort_values('PATIENT',ascending=False).sort_index(level='COUNTY',sort_remaining=False).to_csv('care.csv')"
   ]
  },
  {
   "cell_type": "code",
   "execution_count": 14,
   "metadata": {},
   "outputs": [],
   "source": [
    "df1 = pd.read_csv('conditions.csv')\n",
    "con = pd.merge(df1,data,how='left',on='PATIENT')\n",
    "con.groupby(['COUNTY','DESCRIPTION']).count().sort_values('PATIENT',ascending=False).sort_index(level='COUNTY',sort_remaining=False).to_csv('con.csv')"
   ]
  },
  {
   "cell_type": "code",
   "execution_count": 15,
   "metadata": {},
   "outputs": [],
   "source": [
    "df1 = pd.read_csv('encounters.csv')\n",
    "enc = pd.merge(df1,data,how='left',on='PATIENT')\n",
    "enc.groupby(['COUNTY','DESCRIPTION']).count().sort_values('PATIENT',ascending=False).sort_index(level='COUNTY',sort_remaining=False).to_csv('enc.csv')"
   ]
  },
  {
   "cell_type": "code",
   "execution_count": 16,
   "metadata": {},
   "outputs": [],
   "source": [
    "df1 = pd.read_csv('immunizations.csv')\n",
    "im = pd.merge(df1,data,how='left',on='PATIENT')\n",
    "im.groupby(['COUNTY','DESCRIPTION']).count().sort_values('PATIENT',ascending=False).sort_index(level='COUNTY',sort_remaining=False).to_csv('im.csv')"
   ]
  },
  {
   "cell_type": "code",
   "execution_count": 17,
   "metadata": {},
   "outputs": [],
   "source": [
    "df1 = pd.read_csv('medications.csv')\n",
    "med = pd.merge(df1,data,how='left',on='PATIENT')\n",
    "med.groupby(['COUNTY','DESCRIPTION']).count().sort_values('PATIENT',ascending=False).sort_index(level='COUNTY',sort_remaining=False).to_csv('med.csv')"
   ]
  },
  {
   "cell_type": "code",
   "execution_count": 18,
   "metadata": {},
   "outputs": [],
   "source": [
    "df1 = pd.read_csv('observations.csv')\n",
    "obs = pd.merge(df1,data,how='left',on='PATIENT')\n",
    "obs.groupby(['COUNTY','DESCRIPTION']).count().sort_values('PATIENT',ascending=False).sort_index(level='COUNTY',sort_remaining=False).to_csv('obs.csv')"
   ]
  },
  {
   "cell_type": "code",
   "execution_count": 19,
   "metadata": {},
   "outputs": [],
   "source": [
    "df1 = pd.read_csv('organizations.csv')\n",
    "df1['CITY'] = df1['CITY'].str.title()\n",
    "pd.merge(df1,data2,how='left',on='CITY')\n",
    "obs.groupby(['COUNTY','DESCRIPTION']).count().sort_values('PATIENT',ascending=False).sort_index(level='COUNTY',sort_remaining=False).to_csv('obs.csv')"
   ]
  },
  {
   "cell_type": "code",
   "execution_count": 4,
   "metadata": {},
   "outputs": [],
   "source": [
    "df1 = pd.read_csv('procedures.csv')\n",
    "pd.merge(df1,data,how='left',on='PATIENT').to_csv('proc_support.csv')\n",
    "proc = pd.merge(df1,data,how='left',on='PATIENT')\n",
    "proc.groupby(['COUNTY','DESCRIPTION']).count().sort_values('PATIENT',ascending=False).sort_index(level='COUNTY',sort_remaining=False).to_csv('proc.csv')"
   ]
  },
  {
   "cell_type": "code",
   "execution_count": 24,
   "metadata": {},
   "outputs": [],
   "source": [
    "df1 = pd.read_csv('providers.csv')\n",
    "df1['CITY'] = df1['CITY'].str.title()\n",
    "prov = pd.merge(df1,data2,how='left',on='CITY')\n",
    "prov.groupby(['COUNTY','SPECIALITY']).count().sort_values('Id',ascending=False).sort_index(level='COUNTY',sort_remaining=False).to_csv('prov.csv')"
   ]
  },
  {
   "cell_type": "code",
   "execution_count": null,
   "metadata": {},
   "outputs": [],
   "source": []
  }
 ]
}